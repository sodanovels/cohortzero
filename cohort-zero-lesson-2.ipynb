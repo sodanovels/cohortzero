{
 "cells": [
  {
   "cell_type": "markdown",
   "id": "45e54998",
   "metadata": {
    "papermill": {
     "duration": 0.002571,
     "end_time": "2023-06-28T16:05:54.781450",
     "exception": false,
     "start_time": "2023-06-28T16:05:54.778879",
     "status": "completed"
    },
    "tags": []
   },
   "source": [
    "# Applied AI Principles to Techniques\n",
    "- Welcome\n",
    "- Prompting\n"
   ]
  },
  {
   "cell_type": "markdown",
   "id": "1579c766",
   "metadata": {
    "papermill": {
     "duration": 0.00179,
     "end_time": "2023-06-28T16:05:54.785667",
     "exception": false,
     "start_time": "2023-06-28T16:05:54.783877",
     "status": "completed"
    },
    "tags": []
   },
   "source": [
    "# INTRO VIDEO"
   ]
  },
  {
   "cell_type": "code",
   "execution_count": 1,
   "id": "2673e682",
   "metadata": {
    "execution": {
     "iopub.execute_input": "2023-06-28T16:05:54.791292Z",
     "iopub.status.busy": "2023-06-28T16:05:54.790925Z",
     "iopub.status.idle": "2023-06-28T16:05:54.802806Z",
     "shell.execute_reply": "2023-06-28T16:05:54.801699Z"
    },
    "papermill": {
     "duration": 0.01722,
     "end_time": "2023-06-28T16:05:54.804876",
     "exception": false,
     "start_time": "2023-06-28T16:05:54.787656",
     "status": "completed"
    },
    "tags": []
   },
   "outputs": [
    {
     "data": {
      "text/html": [
       "<div align=\"center\"><iframe align = \"middle\" width=\"790\" height=\"440\" src=\"https://player.vimeo.com/video/840250810?h=734c6cf866&amp;badge=0&amp;autopause=0&amp;player_id=0&amp;app_id=58479\" title=\"YouTube video player\" frameborder=\"0\" allow=\"accelerometer; autoplay; clipboard-write; encrypted-media; gyroscope; picture-in-picture\" allowfullscreen></iframe></div>"
      ],
      "text/plain": [
       "<IPython.core.display.HTML object>"
      ]
     },
     "execution_count": 1,
     "metadata": {},
     "output_type": "execute_result"
    }
   ],
   "source": [
    "from IPython.display import HTML\n",
    "\n",
    "HTML('<div align=\"center\"><iframe align = \"middle\" width=\"790\" height=\"440\" src=\"https://player.vimeo.com/video/840250810?h=734c6cf866&amp;badge=0&amp;autopause=0&amp;player_id=0&amp;app_id=58479\" title=\"YouTube video player\" frameborder=\"0\" allow=\"accelerometer; autoplay; clipboard-write; encrypted-media; gyroscope; picture-in-picture\" allowfullscreen></iframe></div>')"
   ]
  },
  {
   "cell_type": "markdown",
   "id": "34f0d46d",
   "metadata": {
    "papermill": {
     "duration": 0.001998,
     "end_time": "2023-06-28T16:05:54.809230",
     "exception": false,
     "start_time": "2023-06-28T16:05:54.807232",
     "status": "completed"
    },
    "tags": []
   },
   "source": [
    "# Principles\n",
    "..."
   ]
  },
  {
   "cell_type": "markdown",
   "id": "a60ae7e1",
   "metadata": {
    "papermill": {
     "duration": 0.001906,
     "end_time": "2023-06-28T16:05:54.813360",
     "exception": false,
     "start_time": "2023-06-28T16:05:54.811454",
     "status": "completed"
    },
    "tags": []
   },
   "source": [
    "# Strategies"
   ]
  },
  {
   "cell_type": "markdown",
   "id": "dc252838",
   "metadata": {
    "papermill": {
     "duration": 0.001875,
     "end_time": "2023-06-28T16:05:54.817326",
     "exception": false,
     "start_time": "2023-06-28T16:05:54.815451",
     "status": "completed"
    },
    "tags": []
   },
   "source": [
    "# Techniques"
   ]
  },
  {
   "cell_type": "markdown",
   "id": "07b8c9d0",
   "metadata": {
    "papermill": {
     "duration": 0.001834,
     "end_time": "2023-06-28T16:05:54.821206",
     "exception": false,
     "start_time": "2023-06-28T16:05:54.819372",
     "status": "completed"
    },
    "tags": []
   },
   "source": [
    "# Thank you.\n",
    "If you have any questions, please do chime in on our Discord channel or send David an email."
   ]
  }
 ],
 "metadata": {
  "kernelspec": {
   "display_name": "Python 3",
   "language": "python",
   "name": "python3"
  },
  "language_info": {
   "codemirror_mode": {
    "name": "ipython",
    "version": 3
   },
   "file_extension": ".py",
   "mimetype": "text/x-python",
   "name": "python",
   "nbconvert_exporter": "python",
   "pygments_lexer": "ipython3",
   "version": "3.10.10"
  },
  "papermill": {
   "default_parameters": {},
   "duration": 12.690608,
   "end_time": "2023-06-28T16:05:55.647353",
   "environment_variables": {},
   "exception": null,
   "input_path": "__notebook__.ipynb",
   "output_path": "__notebook__.ipynb",
   "parameters": {},
   "start_time": "2023-06-28T16:05:42.956745",
   "version": "2.4.0"
  }
 },
 "nbformat": 4,
 "nbformat_minor": 5
}
