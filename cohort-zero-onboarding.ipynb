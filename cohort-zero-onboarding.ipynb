{
 "cells": [
  {
   "cell_type": "markdown",
   "id": "78e95d4d",
   "metadata": {
    "papermill": {
     "duration": 0.003088,
     "end_time": "2023-06-28T13:12:47.165807",
     "exception": false,
     "start_time": "2023-06-28T13:12:47.162719",
     "status": "completed"
    },
    "tags": []
   },
   "source": [
    "# Onboarding for the Applied AI Workshop\n",
    "While we will cover ChatGPT and its plugins, its the API that we will leverage extensively during the workshop. This requires us to \"tool-up\" to make that an easy workflow.  Once everything is installed,we will be able to move quickly through our notebook lessons. "
   ]
  },
  {
   "cell_type": "markdown",
   "id": "4637880a",
   "metadata": {
    "papermill": {
     "duration": 0.002543,
     "end_time": "2023-06-28T13:12:47.171478",
     "exception": false,
     "start_time": "2023-06-28T13:12:47.168935",
     "status": "completed"
    },
    "tags": []
   },
   "source": [
    "## Onboarding VIDEO"
   ]
  },
  {
   "cell_type": "code",
   "execution_count": 1,
   "id": "3ba3f83e",
   "metadata": {
    "execution": {
     "iopub.execute_input": "2023-06-28T13:12:47.178716Z",
     "iopub.status.busy": "2023-06-28T13:12:47.178203Z",
     "iopub.status.idle": "2023-06-28T13:12:47.197762Z",
     "shell.execute_reply": "2023-06-28T13:12:47.196559Z"
    },
    "papermill": {
     "duration": 0.026263,
     "end_time": "2023-06-28T13:12:47.200256",
     "exception": false,
     "start_time": "2023-06-28T13:12:47.173993",
     "status": "completed"
    },
    "tags": []
   },
   "outputs": [
    {
     "data": {
      "text/html": [
       "<div align=\"center\"><iframe align = \"middle\" width=\"790\" height=\"440\" src=\"https://player.vimeo.com/video/840250810?h=734c6cf866&amp;badge=0&amp;autopause=0&amp;player_id=0&amp;app_id=58479\" title=\"YouTube video player\" frameborder=\"0\" allow=\"accelerometer; autoplay; clipboard-write; encrypted-media; gyroscope; picture-in-picture\" allowfullscreen></iframe></div>"
      ],
      "text/plain": [
       "<IPython.core.display.HTML object>"
      ]
     },
     "execution_count": 1,
     "metadata": {},
     "output_type": "execute_result"
    }
   ],
   "source": [
    "from IPython.display import HTML\n",
    "\n",
    "HTML('<div align=\"center\"><iframe align = \"middle\" width=\"790\" height=\"440\" src=\"https://player.vimeo.com/video/840250810?h=734c6cf866&amp;badge=0&amp;autopause=0&amp;player_id=0&amp;app_id=58479\" title=\"YouTube video player\" frameborder=\"0\" allow=\"accelerometer; autoplay; clipboard-write; encrypted-media; gyroscope; picture-in-picture\" allowfullscreen></iframe></div>')"
   ]
  },
  {
   "cell_type": "markdown",
   "id": "af68d50d",
   "metadata": {
    "_cell_guid": "b1076dfc-b9ad-4769-8c92-a6c4dae69d19",
    "_uuid": "8f2839f25d086af736a60e9eeb907d3b93b6e0e5",
    "papermill": {
     "duration": 0.002435,
     "end_time": "2023-06-28T13:12:47.205483",
     "exception": false,
     "start_time": "2023-06-28T13:12:47.203048",
     "status": "completed"
    },
    "tags": []
   },
   "source": [
    "# Cadence of lessons\n",
    "Expect an email with links to kaggle notebooks to download and use for the daily lessons.\n",
    " \n",
    "\n",
    "# Requirements\n",
    "The Workshop is designed to enable participants to work locally on their laptops. All notebooks are functional on Kaggle (and Google Colab) as well.\n",
    "\n",
    "## VSCode\n",
    "You will need a code editor to work on your laptop, locally--without need for an online sdrver, other than utilizing the OPENAI API. Our code editor of choice for the workshop is VSCode. It is considered lightweight, well supported and free. It's standard software to install but there are links provided to download and install VSCode on your platform of choice.\n",
    "\n",
    "- https://code.visualstudio.com/download\n",
    "    \n",
    "- How To Install Visual Studio Code On Mac \n",
    "    - https://www.youtube.com/watch?v=8CJXB4Nu1wo\n",
    "- Install and Use Visual Studio Code on Windows 10  (VS Code) \n",
    "    - https://www.youtube.com/watch?v=MlIzFUI1QGA\n",
    "- How To Install Visual Studio Code On Windows 11 \n",
    "    - https://www.youtube.com/watch?v=AdeWO-n9O2Q\n",
    "- How to Install and Use Visual Studio Code on Linux Ubuntu 22.04 LTS \n",
    "    - https://www.youtube.com/watch?v=JHDyf_EAOb0\n",
    "\n",
    "## Python\n",
    "To use our interactive notebooks, we will need Python--a very capable and easy to install language.  You will be using Python code, but will NOT have to write any--it will all be provided. You can and will modify all scripts to work for your needs.\n",
    "\n",
    "In most cases, Python is already installed on your OS, but by following the instructional videos, you will ensure you are up to date with the current version.\n",
    "\n",
    "- How to setup Python for VSCode in 2023 in 5mins! | Install Python and Setup VSCode for Windows 10 \n",
    "    - https://www.youtube.com/watch?v=cUAK4x_7thA\n",
    "- Setup Python Using Visual Studio Code On Mac | VSCode Python | Python Mac | Python 3 - \n",
    "    - https://www.youtube.com/watch?v=p90N8QePIhg\n",
    "- How to run Python Program on VSCode | Python Programming with Visual Studio Code in Ubuntu | Linux \n",
    "    - https://www.youtube.com/watch?v=NirAuEAblvo\n",
    "\n",
    "## OpenAI Key\n",
    "Please sign up for an OpenAI GPT Plus paid account, which allows you to create an API key. Create a key and store it locally in some not-so-obvious and hopefully secure manner. This API key is needed to make calls to the LLMs we will use during the lessons.\n",
    "\n",
    "- OpenAI \n",
    "    - https://openai.com/\n",
    " - How to Create an OpenAI Secret API Key for ChatGPT or DALL E 2 \n",
    "    - https://www.youtube.com/watch?v=Ay0u4O6PoBE&vl=en\n",
    "\n",
    "## Discord\n",
    "To facilitate support during the cohort zero and ongoing lessons, we will be utilizing a Discord server. There are apps for all OSs:\n",
    "- Download \n",
    "    - https://discord.com/download\n",
    "- Invite to the Agentic Workshop Server\n",
    "    - https://discord.gg/tnz4ArBJ"
   ]
  },
  {
   "cell_type": "markdown",
   "id": "5f2b537b",
   "metadata": {
    "papermill": {
     "duration": 0.00243,
     "end_time": "2023-06-28T13:12:47.210473",
     "exception": false,
     "start_time": "2023-06-28T13:12:47.208043",
     "status": "completed"
    },
    "tags": []
   },
   "source": [
    "## Thank you.\n",
    "If you have any questions, please do chime in on our Discord channel or send David an email."
   ]
  }
 ],
 "metadata": {
  "kernelspec": {
   "display_name": "Python 3",
   "language": "python",
   "name": "python3"
  },
  "language_info": {
   "codemirror_mode": {
    "name": "ipython",
    "version": 3
   },
   "file_extension": ".py",
   "mimetype": "text/x-python",
   "name": "python",
   "nbconvert_exporter": "python",
   "pygments_lexer": "ipython3",
   "version": "3.10.10"
  },
  "papermill": {
   "default_parameters": {},
   "duration": 13.258354,
   "end_time": "2023-06-28T13:12:48.137233",
   "environment_variables": {},
   "exception": null,
   "input_path": "__notebook__.ipynb",
   "output_path": "__notebook__.ipynb",
   "parameters": {},
   "start_time": "2023-06-28T13:12:34.878879",
   "version": "2.4.0"
  }
 },
 "nbformat": 4,
 "nbformat_minor": 5
}
