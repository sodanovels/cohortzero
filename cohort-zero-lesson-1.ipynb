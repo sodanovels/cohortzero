{
 "cells": [
  {
   "cell_type": "markdown",
   "id": "b0e89344",
   "metadata": {
    "papermill": {
     "duration": 0.004155,
     "end_time": "2023-06-28T16:03:29.412086",
     "exception": false,
     "start_time": "2023-06-28T16:03:29.407931",
     "status": "completed"
    },
    "tags": []
   },
   "source": [
    "# Introduction to Applied AI\n",
    "- Welcome\n",
    "- Checkin: QnA - what’s happening in LLM and AI?\n",
    "- ChatGPT → OpenaAI API\n",
    "- Notebooks as curriculum\n",
    " - Kaggle\n",
    " - Download\n",
    " - Online vs Local\n",
    "- Python and working with code.\n",
    "- OpenAI + LLMs\n",
    "- Huggingface\n",
    "- OpenAI’s LLMs\n",
    "- Alternates\n",
    "- Prompting\n"
   ]
  },
  {
   "cell_type": "markdown",
   "id": "eb164c08",
   "metadata": {
    "papermill": {
     "duration": 0.003256,
     "end_time": "2023-06-28T16:03:29.419105",
     "exception": false,
     "start_time": "2023-06-28T16:03:29.415849",
     "status": "completed"
    },
    "tags": []
   },
   "source": [
    "# INTRO VIDEO"
   ]
  },
  {
   "cell_type": "code",
   "execution_count": 1,
   "id": "9c980013",
   "metadata": {
    "execution": {
     "iopub.execute_input": "2023-06-28T16:03:29.427776Z",
     "iopub.status.busy": "2023-06-28T16:03:29.427429Z",
     "iopub.status.idle": "2023-06-28T16:03:29.439213Z",
     "shell.execute_reply": "2023-06-28T16:03:29.438239Z"
    },
    "papermill": {
     "duration": 0.018726,
     "end_time": "2023-06-28T16:03:29.441291",
     "exception": false,
     "start_time": "2023-06-28T16:03:29.422565",
     "status": "completed"
    },
    "tags": []
   },
   "outputs": [
    {
     "data": {
      "text/html": [
       "<div align=\"center\"><iframe align = \"middle\" width=\"790\" height=\"440\" src=\"https://player.vimeo.com/video/840250810?h=734c6cf866&amp;badge=0&amp;autopause=0&amp;player_id=0&amp;app_id=58479\" title=\"YouTube video player\" frameborder=\"0\" allow=\"accelerometer; autoplay; clipboard-write; encrypted-media; gyroscope; picture-in-picture\" allowfullscreen></iframe></div>"
      ],
      "text/plain": [
       "<IPython.core.display.HTML object>"
      ]
     },
     "execution_count": 1,
     "metadata": {},
     "output_type": "execute_result"
    }
   ],
   "source": [
    "from IPython.display import HTML\n",
    "\n",
    "HTML('<div align=\"center\"><iframe align = \"middle\" width=\"790\" height=\"440\" src=\"https://player.vimeo.com/video/840250810?h=734c6cf866&amp;badge=0&amp;autopause=0&amp;player_id=0&amp;app_id=58479\" title=\"YouTube video player\" frameborder=\"0\" allow=\"accelerometer; autoplay; clipboard-write; encrypted-media; gyroscope; picture-in-picture\" allowfullscreen></iframe></div>')"
   ]
  },
  {
   "cell_type": "markdown",
   "id": "1cedaac3",
   "metadata": {
    "papermill": {
     "duration": 0.003507,
     "end_time": "2023-06-28T16:03:29.448644",
     "exception": false,
     "start_time": "2023-06-28T16:03:29.445137",
     "status": "completed"
    },
    "tags": []
   },
   "source": [
    "# Applied AI\n",
    "What is it."
   ]
  },
  {
   "cell_type": "markdown",
   "id": "70bd2842",
   "metadata": {
    "papermill": {
     "duration": 0.003568,
     "end_time": "2023-06-28T16:03:29.455908",
     "exception": false,
     "start_time": "2023-06-28T16:03:29.452340",
     "status": "completed"
    },
    "tags": []
   },
   "source": [
    "# AI - defined a few times\n",
    "- ...\n",
    "- ...\n",
    "- ...\n",
    "probablistic model"
   ]
  },
  {
   "cell_type": "markdown",
   "id": "ef0eb61e",
   "metadata": {
    "papermill": {
     "duration": 0.003377,
     "end_time": "2023-06-28T16:03:29.463014",
     "exception": false,
     "start_time": "2023-06-28T16:03:29.459637",
     "status": "completed"
    },
    "tags": []
   },
   "source": [
    "# LLMs\n",
    "- define for our purposes\n",
    "- wikipedia definition\n",
    "- Huggingface\n",
    "- OpenAI and their many models\n",
    "- Huggingface\n",
    "- Leaderboard on Huggingface\n",
    "- Langchain + LLMs"
   ]
  },
  {
   "cell_type": "markdown",
   "id": "94a868d4",
   "metadata": {
    "papermill": {
     "duration": 0.003443,
     "end_time": "2023-06-28T16:03:29.470097",
     "exception": false,
     "start_time": "2023-06-28T16:03:29.466654",
     "status": "completed"
    },
    "tags": []
   },
   "source": [
    "# OpenAI\n",
    "..."
   ]
  },
  {
   "cell_type": "markdown",
   "id": "b1f5a328",
   "metadata": {
    "papermill": {
     "duration": 0.003341,
     "end_time": "2023-06-28T16:03:29.478529",
     "exception": false,
     "start_time": "2023-06-28T16:03:29.475188",
     "status": "completed"
    },
    "tags": []
   },
   "source": [
    "# ChatGPT\n",
    "..."
   ]
  },
  {
   "cell_type": "markdown",
   "id": "88f58c57",
   "metadata": {
    "papermill": {
     "duration": 0.003363,
     "end_time": "2023-06-28T16:03:29.485458",
     "exception": false,
     "start_time": "2023-06-28T16:03:29.482095",
     "status": "completed"
    },
    "tags": []
   },
   "source": [
    "# GPT 4\n",
    "..."
   ]
  },
  {
   "cell_type": "markdown",
   "id": "0408ef38",
   "metadata": {
    "papermill": {
     "duration": 0.003589,
     "end_time": "2023-06-28T16:03:29.492612",
     "exception": false,
     "start_time": "2023-06-28T16:03:29.489023",
     "status": "completed"
    },
    "tags": []
   },
   "source": [
    "# OPENAI API\n",
    "..."
   ]
  },
  {
   "cell_type": "markdown",
   "id": "80abc636",
   "metadata": {
    "papermill": {
     "duration": 0.00328,
     "end_time": "2023-06-28T16:03:29.499406",
     "exception": false,
     "start_time": "2023-06-28T16:03:29.496126",
     "status": "completed"
    },
    "tags": []
   },
   "source": [
    "# OpenAI Example"
   ]
  },
  {
   "cell_type": "code",
   "execution_count": 2,
   "id": "a3956fe0",
   "metadata": {
    "execution": {
     "iopub.execute_input": "2023-06-28T16:03:29.508213Z",
     "iopub.status.busy": "2023-06-28T16:03:29.507810Z",
     "iopub.status.idle": "2023-06-28T16:03:29.512328Z",
     "shell.execute_reply": "2023-06-28T16:03:29.511281Z"
    },
    "papermill": {
     "duration": 0.011536,
     "end_time": "2023-06-28T16:03:29.514417",
     "exception": false,
     "start_time": "2023-06-28T16:03:29.502881",
     "status": "completed"
    },
    "tags": []
   },
   "outputs": [],
   "source": [
    "# openAI example script."
   ]
  },
  {
   "cell_type": "markdown",
   "id": "4820714a",
   "metadata": {
    "papermill": {
     "duration": 0.003506,
     "end_time": "2023-06-28T16:03:29.521824",
     "exception": false,
     "start_time": "2023-06-28T16:03:29.518318",
     "status": "completed"
    },
    "tags": []
   },
   "source": [
    "# Ethics of AI\n",
    "...\n"
   ]
  },
  {
   "cell_type": "markdown",
   "id": "2e8c7bfe",
   "metadata": {
    "papermill": {
     "duration": 0.00333,
     "end_time": "2023-06-28T16:03:29.528802",
     "exception": false,
     "start_time": "2023-06-28T16:03:29.525472",
     "status": "completed"
    },
    "tags": []
   },
   "source": [
    "# Principles\n",
    "..."
   ]
  },
  {
   "cell_type": "markdown",
   "id": "3a75d96e",
   "metadata": {
    "papermill": {
     "duration": 0.003662,
     "end_time": "2023-06-28T16:03:29.535999",
     "exception": false,
     "start_time": "2023-06-28T16:03:29.532337",
     "status": "completed"
    },
    "tags": []
   },
   "source": [
    "# Strategies"
   ]
  },
  {
   "cell_type": "markdown",
   "id": "d2980f07",
   "metadata": {
    "papermill": {
     "duration": 0.003221,
     "end_time": "2023-06-28T16:03:29.542719",
     "exception": false,
     "start_time": "2023-06-28T16:03:29.539498",
     "status": "completed"
    },
    "tags": []
   },
   "source": [
    "# Techniques"
   ]
  },
  {
   "cell_type": "markdown",
   "id": "e2c1fcbf",
   "metadata": {
    "papermill": {
     "duration": 0.003258,
     "end_time": "2023-06-28T16:03:29.549989",
     "exception": false,
     "start_time": "2023-06-28T16:03:29.546731",
     "status": "completed"
    },
    "tags": []
   },
   "source": [
    "# Thank you.\n",
    "If you have any questions, please do chime in on our Discord channel or send David an email."
   ]
  }
 ],
 "metadata": {
  "kernelspec": {
   "display_name": "Python 3",
   "language": "python",
   "name": "python3"
  },
  "language_info": {
   "codemirror_mode": {
    "name": "ipython",
    "version": 3
   },
   "file_extension": ".py",
   "mimetype": "text/x-python",
   "name": "python",
   "nbconvert_exporter": "python",
   "pygments_lexer": "ipython3",
   "version": "3.10.10"
  },
  "papermill": {
   "default_parameters": {},
   "duration": 10.351214,
   "end_time": "2023-06-28T16:03:30.375583",
   "environment_variables": {},
   "exception": null,
   "input_path": "__notebook__.ipynb",
   "output_path": "__notebook__.ipynb",
   "parameters": {},
   "start_time": "2023-06-28T16:03:20.024369",
   "version": "2.4.0"
  }
 },
 "nbformat": 4,
 "nbformat_minor": 5
}
