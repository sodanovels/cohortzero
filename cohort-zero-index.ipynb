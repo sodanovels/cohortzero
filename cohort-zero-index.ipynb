{
 "cells": [
  {
   "cell_type": "markdown",
   "id": "418aeaf1",
   "metadata": {
    "_cell_guid": "b1076dfc-b9ad-4769-8c92-a6c4dae69d19",
    "_uuid": "8f2839f25d086af736a60e9eeb907d3b93b6e0e5",
    "papermill": {
     "duration": 0.002202,
     "end_time": "2023-06-28T16:18:15.032543",
     "exception": false,
     "start_time": "2023-06-28T16:18:15.030341",
     "status": "completed"
    },
    "tags": []
   },
   "source": [
    "# Index for COHORT ZERO - Applied AI Workshop\n",
    "- Marketing landing page for workshop\n",
    "    - https://agenticIXD.com/workshop.html\n",
    "- Onboarding\n",
    "    - https://www.kaggle.com/code/sodanovels/cohort-zero-onboarding\n",
    "- Intro to Applied AI\n",
    "    - https://www.kaggle.com/sodanovels/cohort-zero-lesson-1\n",
    "- Principles to Techniques\n",
    "    - https://www.kaggle.com/sodanovels/cohort-zero-lesson-2\n",
    "- Resources + References\n",
    "    - ..."
   ]
  }
 ],
 "metadata": {
  "kernelspec": {
   "display_name": "Python 3",
   "language": "python",
   "name": "python3"
  },
  "language_info": {
   "codemirror_mode": {
    "name": "ipython",
    "version": 3
   },
   "file_extension": ".py",
   "mimetype": "text/x-python",
   "name": "python",
   "nbconvert_exporter": "python",
   "pygments_lexer": "ipython3",
   "version": "3.10.10"
  },
  "papermill": {
   "default_parameters": {},
   "duration": 14.621054,
   "end_time": "2023-06-28T16:18:18.385001",
   "environment_variables": {},
   "exception": null,
   "input_path": "__notebook__.ipynb",
   "output_path": "__notebook__.ipynb",
   "parameters": {},
   "start_time": "2023-06-28T16:18:03.763947",
   "version": "2.4.0"
  }
 },
 "nbformat": 4,
 "nbformat_minor": 5
}
